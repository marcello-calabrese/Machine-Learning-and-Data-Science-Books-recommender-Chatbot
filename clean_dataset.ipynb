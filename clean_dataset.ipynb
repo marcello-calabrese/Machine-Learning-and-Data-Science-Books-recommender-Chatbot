{
 "cells": [
  {
   "cell_type": "code",
   "execution_count": 5,
   "metadata": {},
   "outputs": [],
   "source": [
    "import pandas as pd\n",
    "import numpy as np"
   ]
  },
  {
   "cell_type": "code",
   "execution_count": 6,
   "metadata": {},
   "outputs": [
    {
     "data": {
      "text/html": [
       "<div>\n",
       "<style scoped>\n",
       "    .dataframe tbody tr th:only-of-type {\n",
       "        vertical-align: middle;\n",
       "    }\n",
       "\n",
       "    .dataframe tbody tr th {\n",
       "        vertical-align: top;\n",
       "    }\n",
       "\n",
       "    .dataframe thead th {\n",
       "        text-align: right;\n",
       "    }\n",
       "</style>\n",
       "<table border=\"1\" class=\"dataframe\">\n",
       "  <thead>\n",
       "    <tr style=\"text-align: right;\">\n",
       "      <th></th>\n",
       "      <th>Title</th>\n",
       "      <th>Authors</th>\n",
       "      <th>Price</th>\n",
       "      <th>Stars</th>\n",
       "      <th>Number of Reviews</th>\n",
       "      <th>Published Date</th>\n",
       "      <th>Country</th>\n",
       "      <th>Currency</th>\n",
       "    </tr>\n",
       "  </thead>\n",
       "  <tbody>\n",
       "    <tr>\n",
       "      <th>0</th>\n",
       "      <td>Hands-On Machine Learning with Scikit-Learn, K...</td>\n",
       "      <td>[]</td>\n",
       "      <td>68.0</td>\n",
       "      <td>NaN</td>\n",
       "      <td>NaN</td>\n",
       "      <td>2022-10-31</td>\n",
       "      <td>Australia</td>\n",
       "      <td>AU Dollars</td>\n",
       "    </tr>\n",
       "    <tr>\n",
       "      <th>1</th>\n",
       "      <td>Machine Learning for Absolute Beginners: A Pla...</td>\n",
       "      <td>[]</td>\n",
       "      <td>0.0</td>\n",
       "      <td>NaN</td>\n",
       "      <td>NaN</td>\n",
       "      <td>2020-12-31</td>\n",
       "      <td>Australia</td>\n",
       "      <td>AU Dollars</td>\n",
       "    </tr>\n",
       "    <tr>\n",
       "      <th>2</th>\n",
       "      <td>The Hundred-Page Machine Learning Book</td>\n",
       "      <td>[]</td>\n",
       "      <td>49.0</td>\n",
       "      <td>NaN</td>\n",
       "      <td>NaN</td>\n",
       "      <td>2019-01-01</td>\n",
       "      <td>Australia</td>\n",
       "      <td>AU Dollars</td>\n",
       "    </tr>\n",
       "    <tr>\n",
       "      <th>3</th>\n",
       "      <td>Machine Learning: A Probabilistic Perspective ...</td>\n",
       "      <td>[]</td>\n",
       "      <td>161.0</td>\n",
       "      <td>NaN</td>\n",
       "      <td>NaN</td>\n",
       "      <td>2012-09-07</td>\n",
       "      <td>Australia</td>\n",
       "      <td>AU Dollars</td>\n",
       "    </tr>\n",
       "    <tr>\n",
       "      <th>4</th>\n",
       "      <td>Approaching (Almost) Any Machine Learning Prob...</td>\n",
       "      <td>[]</td>\n",
       "      <td>9.0</td>\n",
       "      <td>NaN</td>\n",
       "      <td>NaN</td>\n",
       "      <td>2020-06-30</td>\n",
       "      <td>Australia</td>\n",
       "      <td>AU Dollars</td>\n",
       "    </tr>\n",
       "  </tbody>\n",
       "</table>\n",
       "</div>"
      ],
      "text/plain": [
       "                                               Title Authors  Price  Stars  \\\n",
       "0  Hands-On Machine Learning with Scikit-Learn, K...      []   68.0    NaN   \n",
       "1  Machine Learning for Absolute Beginners: A Pla...      []    0.0    NaN   \n",
       "2           The Hundred-Page Machine Learning Book        []   49.0    NaN   \n",
       "3  Machine Learning: A Probabilistic Perspective ...      []  161.0    NaN   \n",
       "4  Approaching (Almost) Any Machine Learning Prob...      []    9.0    NaN   \n",
       "\n",
       "   Number of Reviews Published Date    Country    Currency  \n",
       "0                NaN     2022-10-31  Australia  AU Dollars  \n",
       "1                NaN     2020-12-31  Australia  AU Dollars  \n",
       "2                NaN     2019-01-01  Australia  AU Dollars  \n",
       "3                NaN     2012-09-07  Australia  AU Dollars  \n",
       "4                NaN     2020-06-30  Australia  AU Dollars  "
      ]
     },
     "execution_count": 6,
     "metadata": {},
     "output_type": "execute_result"
    }
   ],
   "source": [
    "# read the dataset\n",
    "\n",
    "df = pd.read_csv('amazon_ml_ds_books.csv')\n",
    "\n",
    "df.head()"
   ]
  },
  {
   "cell_type": "code",
   "execution_count": 7,
   "metadata": {},
   "outputs": [
    {
     "data": {
      "text/plain": [
       "Title                   2\n",
       "Authors                 0\n",
       "Price                 199\n",
       "Stars                2678\n",
       "Number of Reviews    2058\n",
       "Published Date       6630\n",
       "Country                 0\n",
       "Currency              199\n",
       "dtype: int64"
      ]
     },
     "execution_count": 7,
     "metadata": {},
     "output_type": "execute_result"
    }
   ],
   "source": [
    "df.isnull().sum()"
   ]
  },
  {
   "cell_type": "code",
   "execution_count": 8,
   "metadata": {},
   "outputs": [
    {
     "data": {
      "text/html": [
       "<div>\n",
       "<style scoped>\n",
       "    .dataframe tbody tr th:only-of-type {\n",
       "        vertical-align: middle;\n",
       "    }\n",
       "\n",
       "    .dataframe tbody tr th {\n",
       "        vertical-align: top;\n",
       "    }\n",
       "\n",
       "    .dataframe thead th {\n",
       "        text-align: right;\n",
       "    }\n",
       "</style>\n",
       "<table border=\"1\" class=\"dataframe\">\n",
       "  <thead>\n",
       "    <tr style=\"text-align: right;\">\n",
       "      <th></th>\n",
       "      <th>Title</th>\n",
       "      <th>Authors</th>\n",
       "      <th>Price</th>\n",
       "      <th>Stars</th>\n",
       "      <th>Number of Reviews</th>\n",
       "      <th>Published Date</th>\n",
       "      <th>Country</th>\n",
       "      <th>Currency</th>\n",
       "    </tr>\n",
       "  </thead>\n",
       "  <tbody>\n",
       "    <tr>\n",
       "      <th>0</th>\n",
       "      <td>Hands-On Machine Learning with Scikit-Learn, K...</td>\n",
       "      <td>[]</td>\n",
       "      <td>68.0</td>\n",
       "      <td>5</td>\n",
       "      <td>NaN</td>\n",
       "      <td>2022-10-31</td>\n",
       "      <td>Australia</td>\n",
       "      <td>AU Dollars</td>\n",
       "    </tr>\n",
       "    <tr>\n",
       "      <th>1</th>\n",
       "      <td>Machine Learning for Absolute Beginners: A Pla...</td>\n",
       "      <td>[]</td>\n",
       "      <td>0.0</td>\n",
       "      <td>3</td>\n",
       "      <td>NaN</td>\n",
       "      <td>2020-12-31</td>\n",
       "      <td>Australia</td>\n",
       "      <td>AU Dollars</td>\n",
       "    </tr>\n",
       "    <tr>\n",
       "      <th>2</th>\n",
       "      <td>The Hundred-Page Machine Learning Book</td>\n",
       "      <td>[]</td>\n",
       "      <td>49.0</td>\n",
       "      <td>1</td>\n",
       "      <td>NaN</td>\n",
       "      <td>2019-01-01</td>\n",
       "      <td>Australia</td>\n",
       "      <td>AU Dollars</td>\n",
       "    </tr>\n",
       "    <tr>\n",
       "      <th>3</th>\n",
       "      <td>Machine Learning: A Probabilistic Perspective ...</td>\n",
       "      <td>[]</td>\n",
       "      <td>161.0</td>\n",
       "      <td>4</td>\n",
       "      <td>NaN</td>\n",
       "      <td>2012-09-07</td>\n",
       "      <td>Australia</td>\n",
       "      <td>AU Dollars</td>\n",
       "    </tr>\n",
       "    <tr>\n",
       "      <th>4</th>\n",
       "      <td>Approaching (Almost) Any Machine Learning Prob...</td>\n",
       "      <td>[]</td>\n",
       "      <td>9.0</td>\n",
       "      <td>5</td>\n",
       "      <td>NaN</td>\n",
       "      <td>2020-06-30</td>\n",
       "      <td>Australia</td>\n",
       "      <td>AU Dollars</td>\n",
       "    </tr>\n",
       "  </tbody>\n",
       "</table>\n",
       "</div>"
      ],
      "text/plain": [
       "                                               Title Authors  Price  Stars  \\\n",
       "0  Hands-On Machine Learning with Scikit-Learn, K...      []   68.0      5   \n",
       "1  Machine Learning for Absolute Beginners: A Pla...      []    0.0      3   \n",
       "2           The Hundred-Page Machine Learning Book        []   49.0      1   \n",
       "3  Machine Learning: A Probabilistic Perspective ...      []  161.0      4   \n",
       "4  Approaching (Almost) Any Machine Learning Prob...      []    9.0      5   \n",
       "\n",
       "   Number of Reviews Published Date    Country    Currency  \n",
       "0                NaN     2022-10-31  Australia  AU Dollars  \n",
       "1                NaN     2020-12-31  Australia  AU Dollars  \n",
       "2                NaN     2019-01-01  Australia  AU Dollars  \n",
       "3                NaN     2012-09-07  Australia  AU Dollars  \n",
       "4                NaN     2020-06-30  Australia  AU Dollars  "
      ]
     },
     "execution_count": 8,
     "metadata": {},
     "output_type": "execute_result"
    }
   ],
   "source": [
    "# we assign random ratings to the books under the column 'Stars'\n",
    "\n",
    "# Generate random numbers from 1 to 5\n",
    "df['Stars'] = np.random.randint(1, 6, size=len(df))\n",
    "\n",
    "df.head()\n"
   ]
  },
  {
   "cell_type": "code",
   "execution_count": 10,
   "metadata": {},
   "outputs": [
    {
     "data": {
      "text/html": [
       "<div>\n",
       "<style scoped>\n",
       "    .dataframe tbody tr th:only-of-type {\n",
       "        vertical-align: middle;\n",
       "    }\n",
       "\n",
       "    .dataframe tbody tr th {\n",
       "        vertical-align: top;\n",
       "    }\n",
       "\n",
       "    .dataframe thead th {\n",
       "        text-align: right;\n",
       "    }\n",
       "</style>\n",
       "<table border=\"1\" class=\"dataframe\">\n",
       "  <thead>\n",
       "    <tr style=\"text-align: right;\">\n",
       "      <th></th>\n",
       "      <th>Title</th>\n",
       "      <th>Authors</th>\n",
       "      <th>Price</th>\n",
       "      <th>Stars</th>\n",
       "      <th>Number of Reviews</th>\n",
       "      <th>Published Date</th>\n",
       "      <th>Country</th>\n",
       "      <th>Currency</th>\n",
       "    </tr>\n",
       "  </thead>\n",
       "  <tbody>\n",
       "    <tr>\n",
       "      <th>0</th>\n",
       "      <td>Hands-On Machine Learning with Scikit-Learn, K...</td>\n",
       "      <td>[]</td>\n",
       "      <td>68.0</td>\n",
       "      <td>5</td>\n",
       "      <td>294</td>\n",
       "      <td>2022-10-31</td>\n",
       "      <td>Australia</td>\n",
       "      <td>AU Dollars</td>\n",
       "    </tr>\n",
       "    <tr>\n",
       "      <th>1</th>\n",
       "      <td>Machine Learning for Absolute Beginners: A Pla...</td>\n",
       "      <td>[]</td>\n",
       "      <td>0.0</td>\n",
       "      <td>3</td>\n",
       "      <td>64</td>\n",
       "      <td>2020-12-31</td>\n",
       "      <td>Australia</td>\n",
       "      <td>AU Dollars</td>\n",
       "    </tr>\n",
       "    <tr>\n",
       "      <th>2</th>\n",
       "      <td>The Hundred-Page Machine Learning Book</td>\n",
       "      <td>[]</td>\n",
       "      <td>49.0</td>\n",
       "      <td>1</td>\n",
       "      <td>113</td>\n",
       "      <td>2019-01-01</td>\n",
       "      <td>Australia</td>\n",
       "      <td>AU Dollars</td>\n",
       "    </tr>\n",
       "    <tr>\n",
       "      <th>3</th>\n",
       "      <td>Machine Learning: A Probabilistic Perspective ...</td>\n",
       "      <td>[]</td>\n",
       "      <td>161.0</td>\n",
       "      <td>4</td>\n",
       "      <td>382</td>\n",
       "      <td>2012-09-07</td>\n",
       "      <td>Australia</td>\n",
       "      <td>AU Dollars</td>\n",
       "    </tr>\n",
       "    <tr>\n",
       "      <th>4</th>\n",
       "      <td>Approaching (Almost) Any Machine Learning Prob...</td>\n",
       "      <td>[]</td>\n",
       "      <td>9.0</td>\n",
       "      <td>5</td>\n",
       "      <td>277</td>\n",
       "      <td>2020-06-30</td>\n",
       "      <td>Australia</td>\n",
       "      <td>AU Dollars</td>\n",
       "    </tr>\n",
       "  </tbody>\n",
       "</table>\n",
       "</div>"
      ],
      "text/plain": [
       "                                               Title Authors  Price  Stars  \\\n",
       "0  Hands-On Machine Learning with Scikit-Learn, K...      []   68.0      5   \n",
       "1  Machine Learning for Absolute Beginners: A Pla...      []    0.0      3   \n",
       "2           The Hundred-Page Machine Learning Book        []   49.0      1   \n",
       "3  Machine Learning: A Probabilistic Perspective ...      []  161.0      4   \n",
       "4  Approaching (Almost) Any Machine Learning Prob...      []    9.0      5   \n",
       "\n",
       "   Number of Reviews Published Date    Country    Currency  \n",
       "0                294     2022-10-31  Australia  AU Dollars  \n",
       "1                 64     2020-12-31  Australia  AU Dollars  \n",
       "2                113     2019-01-01  Australia  AU Dollars  \n",
       "3                382     2012-09-07  Australia  AU Dollars  \n",
       "4                277     2020-06-30  Australia  AU Dollars  "
      ]
     },
     "execution_count": 10,
     "metadata": {},
     "output_type": "execute_result"
    }
   ],
   "source": [
    "# Assign random N# of reviews to each book\n",
    "\n",
    "df['Number of Reviews'] = np.random.randint(0, 501, size=len(df))\n",
    "df.head()"
   ]
  },
  {
   "cell_type": "code",
   "execution_count": 13,
   "metadata": {},
   "outputs": [
    {
     "data": {
      "text/plain": [
       "Title                   2\n",
       "Authors                 0\n",
       "Price                 199\n",
       "Stars                   0\n",
       "Number of Reviews       0\n",
       "Published Date       6630\n",
       "Country                 0\n",
       "Currency              199\n",
       "dtype: int64"
      ]
     },
     "execution_count": 13,
     "metadata": {},
     "output_type": "execute_result"
    }
   ],
   "source": [
    "df.isnull().sum()  \n"
   ]
  },
  {
   "cell_type": "code",
   "execution_count": 16,
   "metadata": {},
   "outputs": [
    {
     "data": {
      "text/html": [
       "<div>\n",
       "<style scoped>\n",
       "    .dataframe tbody tr th:only-of-type {\n",
       "        vertical-align: middle;\n",
       "    }\n",
       "\n",
       "    .dataframe tbody tr th {\n",
       "        vertical-align: top;\n",
       "    }\n",
       "\n",
       "    .dataframe thead th {\n",
       "        text-align: right;\n",
       "    }\n",
       "</style>\n",
       "<table border=\"1\" class=\"dataframe\">\n",
       "  <thead>\n",
       "    <tr style=\"text-align: right;\">\n",
       "      <th></th>\n",
       "      <th>Title</th>\n",
       "      <th>Authors</th>\n",
       "      <th>Price</th>\n",
       "      <th>Stars</th>\n",
       "      <th>Number of Reviews</th>\n",
       "      <th>Published Date</th>\n",
       "      <th>Country</th>\n",
       "      <th>Currency</th>\n",
       "    </tr>\n",
       "  </thead>\n",
       "  <tbody>\n",
       "    <tr>\n",
       "      <th>0</th>\n",
       "      <td>Hands-On Machine Learning with Scikit-Learn, K...</td>\n",
       "      <td>[]</td>\n",
       "      <td>68.0</td>\n",
       "      <td>5</td>\n",
       "      <td>294</td>\n",
       "      <td>2022-10-31</td>\n",
       "      <td>Australia</td>\n",
       "      <td>AU Dollars</td>\n",
       "    </tr>\n",
       "    <tr>\n",
       "      <th>1</th>\n",
       "      <td>Machine Learning for Absolute Beginners: A Pla...</td>\n",
       "      <td>[]</td>\n",
       "      <td>0.0</td>\n",
       "      <td>3</td>\n",
       "      <td>64</td>\n",
       "      <td>2020-12-31</td>\n",
       "      <td>Australia</td>\n",
       "      <td>AU Dollars</td>\n",
       "    </tr>\n",
       "    <tr>\n",
       "      <th>2</th>\n",
       "      <td>The Hundred-Page Machine Learning Book</td>\n",
       "      <td>[]</td>\n",
       "      <td>49.0</td>\n",
       "      <td>1</td>\n",
       "      <td>113</td>\n",
       "      <td>2019-01-01</td>\n",
       "      <td>Australia</td>\n",
       "      <td>AU Dollars</td>\n",
       "    </tr>\n",
       "    <tr>\n",
       "      <th>3</th>\n",
       "      <td>Machine Learning: A Probabilistic Perspective ...</td>\n",
       "      <td>[]</td>\n",
       "      <td>161.0</td>\n",
       "      <td>4</td>\n",
       "      <td>382</td>\n",
       "      <td>2012-09-07</td>\n",
       "      <td>Australia</td>\n",
       "      <td>AU Dollars</td>\n",
       "    </tr>\n",
       "    <tr>\n",
       "      <th>4</th>\n",
       "      <td>Approaching (Almost) Any Machine Learning Prob...</td>\n",
       "      <td>[]</td>\n",
       "      <td>9.0</td>\n",
       "      <td>5</td>\n",
       "      <td>277</td>\n",
       "      <td>2020-06-30</td>\n",
       "      <td>Australia</td>\n",
       "      <td>AU Dollars</td>\n",
       "    </tr>\n",
       "  </tbody>\n",
       "</table>\n",
       "</div>"
      ],
      "text/plain": [
       "                                               Title Authors  Price  Stars  \\\n",
       "0  Hands-On Machine Learning with Scikit-Learn, K...      []   68.0      5   \n",
       "1  Machine Learning for Absolute Beginners: A Pla...      []    0.0      3   \n",
       "2           The Hundred-Page Machine Learning Book        []   49.0      1   \n",
       "3  Machine Learning: A Probabilistic Perspective ...      []  161.0      4   \n",
       "4  Approaching (Almost) Any Machine Learning Prob...      []    9.0      5   \n",
       "\n",
       "   Number of Reviews Published Date    Country    Currency  \n",
       "0                294     2022-10-31  Australia  AU Dollars  \n",
       "1                 64     2020-12-31  Australia  AU Dollars  \n",
       "2                113     2019-01-01  Australia  AU Dollars  \n",
       "3                382     2012-09-07  Australia  AU Dollars  \n",
       "4                277     2020-06-30  Australia  AU Dollars  "
      ]
     },
     "execution_count": 16,
     "metadata": {},
     "output_type": "execute_result"
    }
   ],
   "source": [
    "df['Price'] = df['Price'].fillna(pd.Series(np.random.uniform(20, 100, size=len(df))))\n",
    "df.head()\n"
   ]
  },
  {
   "cell_type": "code",
   "execution_count": 17,
   "metadata": {},
   "outputs": [
    {
     "data": {
      "text/plain": [
       "Title                   2\n",
       "Authors                 0\n",
       "Price                   0\n",
       "Stars                   0\n",
       "Number of Reviews       0\n",
       "Published Date       6630\n",
       "Country                 0\n",
       "Currency              199\n",
       "dtype: int64"
      ]
     },
     "execution_count": 17,
     "metadata": {},
     "output_type": "execute_result"
    }
   ],
   "source": [
    "df.isnull().sum()"
   ]
  },
  {
   "cell_type": "code",
   "execution_count": 18,
   "metadata": {},
   "outputs": [
    {
     "name": "stdout",
     "output_type": "stream",
     "text": [
      "                                               Title Authors  Price  Stars  \\\n",
      "0  Hands-On Machine Learning with Scikit-Learn, K...      []   68.0      5   \n",
      "1  Machine Learning for Absolute Beginners: A Pla...      []    0.0      3   \n",
      "2           The Hundred-Page Machine Learning Book        []   49.0      1   \n",
      "3  Machine Learning: A Probabilistic Perspective ...      []  161.0      4   \n",
      "4  Approaching (Almost) Any Machine Learning Prob...      []    9.0      5   \n",
      "\n",
      "   Number of Reviews    Country  \n",
      "0                294  Australia  \n",
      "1                 64  Australia  \n",
      "2                113  Australia  \n",
      "3                382  Australia  \n",
      "4                277  Australia  \n"
     ]
    },
    {
     "data": {
      "text/plain": [
       "Title                2\n",
       "Authors              0\n",
       "Price                0\n",
       "Stars                0\n",
       "Number of Reviews    0\n",
       "Country              0\n",
       "dtype: int64"
      ]
     },
     "execution_count": 18,
     "metadata": {},
     "output_type": "execute_result"
    }
   ],
   "source": [
    "# drop the columns not needed for the recommender system\n",
    "\n",
    "df = df.drop(['Published Date', 'Currency'], axis=1)\n",
    "print(df.head())\n",
    "df.isnull().sum()"
   ]
  },
  {
   "cell_type": "code",
   "execution_count": 19,
   "metadata": {},
   "outputs": [
    {
     "data": {
      "text/plain": [
       "Title                0\n",
       "Authors              0\n",
       "Price                0\n",
       "Stars                0\n",
       "Number of Reviews    0\n",
       "Country              0\n",
       "dtype: int64"
      ]
     },
     "execution_count": 19,
     "metadata": {},
     "output_type": "execute_result"
    }
   ],
   "source": [
    "#drop the 2 rows with missing values\n",
    "\n",
    "df = df.dropna()\n",
    "df.isnull().sum()"
   ]
  },
  {
   "cell_type": "code",
   "execution_count": 20,
   "metadata": {},
   "outputs": [],
   "source": [
    "# now save the cleaned dataset\n",
    "\n",
    "df.to_csv('amazon_ml_ds_books_cleaned.csv', index=False)"
   ]
  }
 ],
 "metadata": {
  "kernelspec": {
   "display_name": "lida_analytics",
   "language": "python",
   "name": "python3"
  },
  "language_info": {
   "codemirror_mode": {
    "name": "ipython",
    "version": 3
   },
   "file_extension": ".py",
   "mimetype": "text/x-python",
   "name": "python",
   "nbconvert_exporter": "python",
   "pygments_lexer": "ipython3",
   "version": "3.10.13"
  }
 },
 "nbformat": 4,
 "nbformat_minor": 2
}
