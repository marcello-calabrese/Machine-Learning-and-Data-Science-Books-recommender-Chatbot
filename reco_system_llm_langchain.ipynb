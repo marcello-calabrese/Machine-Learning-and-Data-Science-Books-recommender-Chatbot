{
 "cells": [
  {
   "cell_type": "markdown",
   "metadata": {},
   "source": [
    "# Recommendation System of Ml and Data Science books from Amazon\n",
    "\n",
    "## Libraries used:\n",
    "- langchain, chromadb, openai, csv loader, opeanai embeddings, retrievalQA"
   ]
  },
  {
   "cell_type": "code",
   "execution_count": 18,
   "metadata": {},
   "outputs": [],
   "source": [
    "# import libraries\n",
    "\n",
    "from langchain.document_loaders import CSVLoader\n",
    "from langchain.vectorstores import Chroma\n",
    "import chromadb\n",
    "from langchain.embeddings import OpenAIEmbeddings\n",
    "import openai\n",
    "from langchain.prompts import PromptTemplate\n",
    "from dotenv import load_dotenv\n",
    "from langchain.chains import RetrievalQA\n",
    "from langchain.text_splitter import RecursiveCharacterTextSplitter\n",
    "import os\n",
    "from langchain.chat_models import ChatOpenAI"
   ]
  },
  {
   "cell_type": "code",
   "execution_count": 19,
   "metadata": {},
   "outputs": [
    {
     "data": {
      "text/plain": [
       "True"
      ]
     },
     "execution_count": 19,
     "metadata": {},
     "output_type": "execute_result"
    }
   ],
   "source": [
    "load_dotenv()"
   ]
  },
  {
   "cell_type": "code",
   "execution_count": 4,
   "metadata": {},
   "outputs": [],
   "source": [
    "# load the csv file in langchain\n",
    "\n",
    "csv_loader = CSVLoader('amazon_ml_ds_books_cleaned.csv')\n",
    "csv_file = csv_loader.load()"
   ]
  },
  {
   "cell_type": "code",
   "execution_count": 5,
   "metadata": {},
   "outputs": [
    {
     "data": {
      "text/plain": [
       "8427"
      ]
     },
     "execution_count": 5,
     "metadata": {},
     "output_type": "execute_result"
    }
   ],
   "source": [
    "# split the text into chunks\n",
    "\n",
    "csv_splitter = RecursiveCharacterTextSplitter(chunk_size=1000, chunk_overlap=100)\n",
    "\n",
    "csv_document = csv_splitter.split_documents(csv_file)\n",
    "\n",
    "len(csv_document)\n"
   ]
  },
  {
   "cell_type": "code",
   "execution_count": 9,
   "metadata": {},
   "outputs": [
    {
     "data": {
      "text/plain": [
       "Document(page_content='Title: Machine Learning for Absolute Beginners: A Plain English Introduction (Third Edition) (Machine Learning with Python for Beginners Book Series 1)\\nAuthors: []\\nPrice: 0.0\\nStars: 3\\nNumber of Reviews: 64\\nCountry: Australia', metadata={'source': 'amazon_ml_ds_books_cleaned.csv', 'row': 1})"
      ]
     },
     "execution_count": 9,
     "metadata": {},
     "output_type": "execute_result"
    }
   ],
   "source": [
    "# find a specific text in the csv file\n",
    "\n",
    "csv_document[1]"
   ]
  },
  {
   "cell_type": "code",
   "execution_count": 8,
   "metadata": {},
   "outputs": [],
   "source": [
    "# create a vector store with langchain chroma\n",
    "\n",
    "# 1) persist a directory \n",
    "\n",
    "persist_directory = 'chroma_db'\n",
    "\n",
    "# # 2) create the embeddings\n",
    "\n",
    "embeddings = OpenAIEmbeddings()\n",
    "\n",
    "# # 3) create the vector store\n",
    "\n",
    "vector_db = Chroma.from_documents(documents=csv_document, embedding=embeddings, persist_directory=persist_directory)"
   ]
  },
  {
   "cell_type": "code",
   "execution_count": 12,
   "metadata": {},
   "outputs": [],
   "source": [
    "# persist the vector store to disk\n",
    "\n",
    "vector_db.persist()\n",
    "vector_db = None"
   ]
  },
  {
   "cell_type": "code",
   "execution_count": 9,
   "metadata": {},
   "outputs": [],
   "source": [
    "# Load the vector store from disk and use it\n",
    "\n",
    "vector_db = Chroma(persist_directory=persist_directory, embedding_function=embeddings)"
   ]
  },
  {
   "cell_type": "code",
   "execution_count": 10,
   "metadata": {},
   "outputs": [],
   "source": [
    "# Create a retriever\n",
    "\n",
    "retriever = vector_db.as_retriever(search_kwargs={'n': 10})\n"
   ]
  },
  {
   "cell_type": "code",
   "execution_count": 11,
   "metadata": {},
   "outputs": [
    {
     "data": {
      "text/plain": [
       "'similarity'"
      ]
     },
     "execution_count": 11,
     "metadata": {},
     "output_type": "execute_result"
    }
   ],
   "source": [
    "# Checking the type of research with the retriever\n",
    "\n",
    "retriever.search_type"
   ]
  },
  {
   "cell_type": "code",
   "execution_count": 30,
   "metadata": {},
   "outputs": [],
   "source": [
    "# create the prompt template\n",
    "\n",
    "prompt_template = \"\"\" You are an amazon book recommender system. Use the following pieces of context to answer the question and recommend a book to the user.\n",
    "\n",
    "if you don't know the answer, just say \"I don't know\".\n",
    "\n",
    "{context}\n",
    "\n",
    "Question: {question}\n",
    "\"\"\"\n",
    "\n",
    "PROMPT = PromptTemplate(template=prompt_template, input_variables=['context', 'question'])"
   ]
  },
  {
   "cell_type": "code",
   "execution_count": 31,
   "metadata": {},
   "outputs": [],
   "source": [
    "# Create the Chain for the chat with the retriever and the prompt template\n",
    "\n",
    "qachain = RetrievalQA.from_chain_type(llm=ChatOpenAI(\n",
    "                                    model_name = \"gpt-3.5-turbo\",\n",
    "                                    temperature=0.1,\n",
    "                                    verbose=False), \n",
    "                                    chain_type='stuff',\n",
    "                                    chain_type_kwargs={'prompt': PROMPT},\n",
    "                                    retriever=retriever)"
   ]
  },
  {
   "cell_type": "code",
   "execution_count": 32,
   "metadata": {},
   "outputs": [
    {
     "name": "stdout",
     "output_type": "stream",
     "text": [
      "('I recommend the book \"Python for Data Analysis\" by Wes McKinney. It is a '\n",
      " 'comprehensive guide to data analysis using the Pandas library and is priced '\n",
      " 'at $49.99.')\n"
     ]
    }
   ],
   "source": [
    "doc = qachain('could you recommend a book on Pandas with a price less than 100 dollars?')\n",
    "import pprint\n",
    "pprint.pprint(doc['result'])"
   ]
  },
  {
   "cell_type": "code",
   "execution_count": 28,
   "metadata": {},
   "outputs": [
    {
     "name": "stdout",
     "output_type": "stream",
     "text": [
      "('Based on the information provided, I would recommend the book \"Deep Learning '\n",
      " 'illustriert: Eine anschauliche Einführung in Machine Vision, Natural '\n",
      " 'Language Processing und Bilderzeugung für Programmierer und Datenanalysten\" '\n",
      " 'by Jon Krohn. It has received 5 stars and has 59 reviews, making it a highly '\n",
      " 'regarded book on deep learning and computer vision. Additionally, it is '\n",
      " 'priced at 39.0, which is quite reasonable. I hope you find this '\n",
      " 'recommendation helpful!')\n"
     ]
    }
   ],
   "source": [
    "# inititalize the chatbot question and answering with PROMPT \n",
    "\n",
    "QUERY = \"Any book to recommend on deep learning and computer vision?\"\n",
    "\n",
    "doc_prompt = qachain({\"query\": QUERY})\n",
    "\n",
    "import pprint\n",
    "\n",
    "pprint.pprint(doc_prompt['result'])"
   ]
  }
 ],
 "metadata": {
  "kernelspec": {
   "display_name": "youtubedsinterview",
   "language": "python",
   "name": "python3"
  },
  "language_info": {
   "codemirror_mode": {
    "name": "ipython",
    "version": 3
   },
   "file_extension": ".py",
   "mimetype": "text/x-python",
   "name": "python",
   "nbconvert_exporter": "python",
   "pygments_lexer": "ipython3",
   "version": "3.10.13"
  }
 },
 "nbformat": 4,
 "nbformat_minor": 2
}
